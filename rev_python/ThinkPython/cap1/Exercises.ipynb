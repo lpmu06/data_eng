{
 "cells": [
  {
   "cell_type": "markdown",
   "metadata": {},
   "source": [
    "## Exercícios do capítulo 1\n"
   ]
  },
  {
   "cell_type": "code",
   "execution_count": 1,
   "metadata": {},
   "outputs": [
    {
     "name": "stdout",
     "output_type": "stream",
     "text": [
      "2562\n"
     ]
    }
   ],
   "source": [
    "#1.1\n",
    "# How many seconds are there in 42 minutes and 42 seconds?\n",
    "\n",
    "def seconds_in_minutes(minutes, seconds):\n",
    "    return minutes * 60 + seconds\n",
    "\n",
    "print(seconds_in_minutes(42, 42))\n"
   ]
  },
  {
   "cell_type": "code",
   "execution_count": 2,
   "metadata": {},
   "outputs": [
    {
     "data": {
      "text/plain": [
       "2"
      ]
     },
     "execution_count": 2,
     "metadata": {},
     "output_type": "execute_result"
    }
   ],
   "source": [
    "# In Python, the ^ operator performs bitwise XOR, not exponentiation\n",
    "# 7^5 in binary:\n",
    "# 7 is 0111\n",
    "# 5 is 0101\n",
    "# XOR: 0010 = 2\n",
    "\n",
    "# To calculate 7 to the power of 5, use ** operator:\n",
    "# 7**5  # This would give 16807\n",
    "\n",
    "7^5  # Returns 2 due to bitwise XOR"
   ]
  },
  {
   "cell_type": "code",
   "execution_count": 5,
   "metadata": {},
   "outputs": [
    {
     "name": "stdout",
     "output_type": "stream",
     "text": [
      "6.21371\n"
     ]
    }
   ],
   "source": [
    "#1.2\n",
    "# How many miles are there in 10 kilometers? Hint: there are 1.61 kilometers in amile.\n",
    "\n",
    "def miles_in_kilometers(kilometers):\n",
    "    return kilometers * 0.621371\n",
    "\n",
    "print(miles_in_kilometers(10))"
   ]
  },
  {
   "cell_type": "code",
   "execution_count": 10,
   "metadata": {},
   "outputs": [
    {
     "name": "stdout",
     "output_type": "stream",
     "text": [
      "Average pace in seconds:  412.31\n"
     ]
    }
   ],
   "source": [
    "#1.3\n",
    "# If you run a 10 kilometer race in 42 minutes and 42 seconds, what is your average pace (time per mile in minutes and seconds) rounded with 2 decimal places?\n",
    "\n",
    "def average_pace_seconds(km, mins, secs, round_to=2):\n",
    "    total_seconds = mins * 60 + secs\n",
    "    miles = km * 0.621371\n",
    "    return round(total_seconds / miles, round_to)\n",
    "\n",
    "print(\"Average pace in seconds: \", average_pace_seconds(10, 42, 42))\n"
   ]
  },
  {
   "cell_type": "code",
   "execution_count": 21,
   "metadata": {},
   "outputs": [
    {
     "name": "stdout",
     "output_type": "stream",
     "text": [
      "(6.0, 52.31)\n"
     ]
    }
   ],
   "source": [
    "#1.4\n",
    "# What is your average pace in minutes and seconds per mile?\n",
    "def average_pace_minutes_seconds(km, mins, secs, round_to=2):\n",
    "    total_seconds = mins * 60 + secs\n",
    "    #just_minutes = total_seconds // 60\n",
    "    #just_seconds = total_seconds % 60\n",
    "    miles = km * 0.621371\n",
    "    return round((total_seconds / miles) // 60, round_to), round((total_seconds / miles) % 60, round_to)\n",
    "\n",
    "print(average_pace_minutes_seconds(10, 42, 42))\n"
   ]
  },
  {
   "cell_type": "code",
   "execution_count": 22,
   "metadata": {},
   "outputs": [
    {
     "name": "stdout",
     "output_type": "stream",
     "text": [
      "8.73\n"
     ]
    }
   ],
   "source": [
    "#1.5\n",
    "# What is your average speed in miles per hour?\n",
    "\n",
    "def average_speed_miles_per_hour(km, mins, secs, round_to=2):\n",
    "    total_seconds = mins * 60 + secs\n",
    "    miles = km * 0.621371\n",
    "    return round(miles/(total_seconds/3600), round_to)\n",
    "\n",
    "print(average_speed_miles_per_hour(10, 42, 42))\n",
    "\n"
   ]
  },
  {
   "cell_type": "code",
   "execution_count": null,
   "metadata": {},
   "outputs": [],
   "source": []
  }
 ],
 "metadata": {
  "kernelspec": {
   "display_name": "Python 3",
   "language": "python",
   "name": "python3"
  },
  "language_info": {
   "codemirror_mode": {
    "name": "ipython",
    "version": 3
   },
   "file_extension": ".py",
   "mimetype": "text/x-python",
   "name": "python",
   "nbconvert_exporter": "python",
   "pygments_lexer": "ipython3",
   "version": "3.12.3"
  }
 },
 "nbformat": 4,
 "nbformat_minor": 2
}
